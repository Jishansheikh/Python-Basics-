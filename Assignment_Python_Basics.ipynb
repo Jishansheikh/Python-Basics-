{
  "nbformat": 4,
  "nbformat_minor": 0,
  "metadata": {
    "colab": {
      "provenance": []
    },
    "kernelspec": {
      "name": "python3",
      "display_name": "Python 3"
    },
    "language_info": {
      "name": "python"
    }
  },
  "cells": [
    {
      "cell_type": "markdown",
      "source": [
        "# Assignment Python Basics Questions"
      ],
      "metadata": {
        "id": "ghPC8mjvZVMn"
      }
    },
    {
      "cell_type": "markdown",
      "source": [
        "1. What is Python,and why is it popular?\n",
        "  - Python is a high-level, interpreted programming language known for its simplicity and readability. It was created by Guido van Rossum and first released in 1991. Python supports multiple programming paradigms, including.\n",
        "  It is often used for web development, data analysis, artificial intelligence (AI), machine learning (ML), automation, and more.\n",
        "  Python is popular for several reasons:\n",
        "  1) Simple and Readable Syntax\n",
        "  2) Versatile and General-purpose\n",
        "  3) Large Standard Library\n",
        "  4)Extensive Community Support\n",
        "  5)Cross-platform\n",
        "  6)Supports Integration\n",
        "  7)trong in Data Science & AI."
      ],
      "metadata": {
        "id": "XI0Xh7I2ZnT1"
      }
    },
    {
      "cell_type": "markdown",
      "source": [
        "2. What is an interpreter in Python?\n",
        "   - An interpreter in Python is a program that reads and executes code line-by-line. It translates Python code (which humans write) into machine code (which computers understand), one instruction at a time."
      ],
      "metadata": {
        "id": "0mWkdTT3cimA"
      }
    },
    {
      "cell_type": "markdown",
      "source": [
        "3. What are pre-defined keywords in Python?\n",
        "  - Pre-defined keywords in Python are reserved words that have special meaning in the language. You cannot use them as variable names, function names, or identifiers, because Python uses them to define the syntax and structure of the code."
      ],
      "metadata": {
        "id": "CVF1Ve3keFF1"
      }
    },
    {
      "cell_type": "markdown",
      "source": [
        "4. Can keywords be used as variable names?\n",
        "  - No, keywords cannot be used as variable names in Python.They are reserved by the language because they define the structure and rules of Python code (e.g., if, for, def). Using them as variable names would confuse the interpreter and lead to a syntax error."
      ],
      "metadata": {
        "id": "VeXiU7t2iRQs"
      }
    },
    {
      "cell_type": "markdown",
      "source": [
        "5. What is mutability in Python?\n",
        "  - Mutability in Python refers to whether or not the value of an object can be changed after it is created."
      ],
      "metadata": {
        "id": "g5BghaFdj9db"
      }
    },
    {
      "cell_type": "markdown",
      "source": [
        "6. Why are lists mutable,but tuples are immutable?\n",
        "  - Lists are mutable because they’re designed for changeable collections.\n",
        "Tuples are immutable because they’re meant for fixed data that shouldn't change."
      ],
      "metadata": {
        "id": "fCXIr2Lxlbcc"
      }
    },
    {
      "cell_type": "markdown",
      "source": [
        "7. What is the difference between \"==\" and \"is\" operators in Python?\n",
        "  - In Python, == and \"is\" are both comparison operators, but they do very different things.Use == when comparing values.\n",
        "Use \"is\" only when checking object identity (e.g., x is None).\n",
        "\n"
      ],
      "metadata": {
        "id": "KCBzYDYnm6FQ"
      }
    },
    {
      "cell_type": "markdown",
      "source": [
        "8. What are logical operators in Python?\n",
        "  - Logical operators in Python are used to combine multiple conditions (Boolean expressions). They return either True or False based on the logic applied."
      ],
      "metadata": {
        "id": "CvgSIVyGqNH4"
      }
    },
    {
      "cell_type": "markdown",
      "source": [
        "9. What is type casting in Python?\n",
        "  - Type casting in Python means converting a value from one data type to another.\n",
        "\n",
        "    For example, you might want to convert:\n",
        "\n",
        "    A string to an integer\n",
        "\n",
        "    A float to an integer\n",
        "\n",
        "    An integer to a string\n",
        "\n",
        "    This is useful when combining different types of data or doing calculations that require a specific type.\n",
        "\n"
      ],
      "metadata": {
        "id": "PUGpXEL5rZFk"
      }
    },
    {
      "cell_type": "markdown",
      "source": [
        "10. What is the difference between implicit and explicit type casting?\n",
        "  - Implicit type casting is the process where the Python interpreter automatically converts one data type to another during expression evaluation, without any user involvement.\n",
        "  - Explicit type casting is the process where the programmer intentionally converts one data type into another using built-in functions such as int(), float(), str(), etc."
      ],
      "metadata": {
        "id": "cLyD0EXzZDiy"
      }
    },
    {
      "cell_type": "markdown",
      "source": [
        "11. What is the pupose of conditional statements in Python?\n",
        "  - Conditional statements in Python are used to make decisions in a program. They allow your code to execute certain blocks of code only if specific conditions are met.Conditional statements guide the program’s behavior based on conditions. They make your code smart, interactive, and flexible.\n",
        "  The purpose of conditional statements is to control the flow of a program based on Boolean logic (True or False conditions)."
      ],
      "metadata": {
        "id": "cZyJ3ZVEwHMO"
      }
    },
    {
      "cell_type": "markdown",
      "source": [
        "12. How does the elif statement work?\n",
        "  - The elif (short for \"else if\") statement in Python is used to check multiple conditions, one after another.The elif statement lets you check multiple conditions in sequence.\n",
        "It helps make decisions more efficiently without nesting multiple if statements."
      ],
      "metadata": {
        "id": "mjGVDZbsxO6i"
      }
    },
    {
      "cell_type": "markdown",
      "source": [
        "13. What is the difference between for and while loops?\n",
        "  - Both for and while loops are used to repeat code, but they are used in different situations based on the type of repetition needed.\n",
        "\n",
        "     A for loop is used when you want to repeat a block of code a specific number of times or iterate over a sequence (like a list, string, or range).\n",
        "     \n",
        "     A while loop is used to repeat a block of code as long as a condition remains true."
      ],
      "metadata": {
        "id": "AIMCmGw0yNGB"
      }
    },
    {
      "cell_type": "markdown",
      "source": [
        "14. Describe a scenario where a while loop is more suitable than a for loop.\n",
        "  - A while loop is better when you don’t know in advance how many times the loop should run—especially when the loop depends on external input or a changing condition.\n",
        "    \n",
        "     Example Scenario: Imagine a program that keeps asking the user to enter the correct password. You don’t know how many attempts the user will need. So, a while loop is perfect here.\n",
        "\n",
        "     \n",
        "\n"
      ],
      "metadata": {
        "id": "G9bSxGvNz7sT"
      }
    },
    {
      "cell_type": "markdown",
      "source": [
        "# Practical Questions\n"
      ],
      "metadata": {
        "id": "7IPg7LfD1QwG"
      }
    },
    {
      "cell_type": "code",
      "source": [
        "# 1. Write a Python program to print \"Hello,World!\"\n",
        "\n",
        "print(\"Hello, World!\")\n"
      ],
      "metadata": {
        "colab": {
          "base_uri": "https://localhost:8080/"
        },
        "id": "ejdBPQt13Z8K",
        "outputId": "631785c0-5a13-416e-8f02-490275b17635"
      },
      "execution_count": 4,
      "outputs": [
        {
          "output_type": "stream",
          "name": "stdout",
          "text": [
            "Hello, World!\n"
          ]
        }
      ]
    },
    {
      "cell_type": "code",
      "source": [
        "# 2. Write a Python program that displays your name and age.\n",
        "\n",
        "name = \"Jishan\"\n",
        "age = 27\n",
        "\n",
        "print(\"My name is\", name)\n",
        "print(\"I am\", age, \"years old.\")\n"
      ],
      "metadata": {
        "colab": {
          "base_uri": "https://localhost:8080/"
        },
        "id": "ne3oUIQx4IQu",
        "outputId": "a7b627b8-d62e-4d93-def3-ac7d55ecbb98"
      },
      "execution_count": 2,
      "outputs": [
        {
          "output_type": "stream",
          "name": "stdout",
          "text": [
            "My name is Jishan\n",
            "I am 27 years old.\n"
          ]
        }
      ]
    },
    {
      "cell_type": "code",
      "source": [
        "# 3.Write code to print all the pre-defined keywords in Python using thekeywords library.\n",
        "\n",
        "keywords_list"
      ],
      "metadata": {
        "colab": {
          "base_uri": "https://localhost:8080/"
        },
        "id": "jZEcD8ASEfPV",
        "outputId": "254cebd3-0718-4bc3-cca2-b91f66a30a82"
      },
      "execution_count": 24,
      "outputs": [
        {
          "output_type": "execute_result",
          "data": {
            "text/plain": [
              "['False',\n",
              " 'None',\n",
              " 'True',\n",
              " 'and',\n",
              " 'as',\n",
              " 'assert',\n",
              " 'async',\n",
              " 'await',\n",
              " 'break',\n",
              " 'class',\n",
              " 'continue',\n",
              " 'def',\n",
              " 'del',\n",
              " 'elif',\n",
              " 'else',\n",
              " 'except',\n",
              " 'finally',\n",
              " 'for',\n",
              " 'from',\n",
              " 'global',\n",
              " 'if',\n",
              " 'import',\n",
              " 'in',\n",
              " 'is',\n",
              " 'lambda',\n",
              " 'nonlocal',\n",
              " 'not',\n",
              " 'or',\n",
              " 'pass',\n",
              " 'raise',\n",
              " 'return',\n",
              " 'try',\n",
              " 'while',\n",
              " 'with',\n",
              " 'yield']"
            ]
          },
          "metadata": {},
          "execution_count": 24
        }
      ]
    },
    {
      "cell_type": "code",
      "source": [
        "# 4. Write a program that checks if a given word is a Python keyword.\n",
        "\n",
        "word = input(\"Enter a word to check: \")"
      ],
      "metadata": {
        "colab": {
          "base_uri": "https://localhost:8080/"
        },
        "id": "hGW83UXpHGGE",
        "outputId": "488661cc-88f2-4531-d633-3c41bd20534b"
      },
      "execution_count": 14,
      "outputs": [
        {
          "name": "stdout",
          "output_type": "stream",
          "text": [
            "Enter a word to check: hello\n"
          ]
        }
      ]
    },
    {
      "cell_type": "code",
      "source": [
        "# 5. Create a list and tuple in Python,and demonstrate how attempting to change an element works differently for each.\n",
        "\n",
        "  # Create a list and a tuple\n",
        "my_list = [10, 20, 30]\n",
        "my_tuple = (10, 20, 30)\n",
        "\n",
        "# Modify the second element in the list\n",
        "my_list[1] = 99\n",
        "print(\"Modified list:\", my_list)  # Output: [10, 99, 30]"
      ],
      "metadata": {
        "colab": {
          "base_uri": "https://localhost:8080/"
        },
        "id": "Gom3qlpGwNhb",
        "outputId": "43333dd4-a223-4a5a-9f27-3625f3c9d7c9"
      },
      "execution_count": 24,
      "outputs": [
        {
          "output_type": "stream",
          "name": "stdout",
          "text": [
            "Modified list: [10, 99, 30]\n"
          ]
        }
      ]
    },
    {
      "cell_type": "code",
      "source": [
        "# 6. Write a function to demonstrate the behavior of mutable and immutable arguments.\n",
        "\n",
        "   # Immutable variable (int)\n",
        "x = 5\n",
        "\n",
        "# Mutable variable (list)\n",
        "my_list = [1, 2, 3]\n",
        "\n",
        "print(\"x:\", x)\n",
        "print(\"my_list:\", my_list)\n"
      ],
      "metadata": {
        "colab": {
          "base_uri": "https://localhost:8080/"
        },
        "id": "TKjDTJ3EzYQg",
        "outputId": "d18430fb-93eb-436f-9198-3a52c2475988"
      },
      "execution_count": 34,
      "outputs": [
        {
          "output_type": "stream",
          "name": "stdout",
          "text": [
            "x: 5\n",
            "my_list: [1, 2, 3]\n"
          ]
        }
      ]
    },
    {
      "cell_type": "markdown",
      "source": [],
      "metadata": {
        "id": "cBMKwotZ1mun"
      }
    },
    {
      "cell_type": "code",
      "source": [
        "# 7. Write a program that performs basic arithmetic operations on two user-input numbers\n",
        "\n",
        "num1 = float(input(\"Enter first number: \"))\n",
        "num2 = float(input(\"Enter second number: \"))\n"
      ],
      "metadata": {
        "colab": {
          "base_uri": "https://localhost:8080/"
        },
        "id": "Rxw_tljywaom",
        "outputId": "78676ca6-a696-4330-8373-00c38fdb88ba"
      },
      "execution_count": 1,
      "outputs": [
        {
          "name": "stdout",
          "output_type": "stream",
          "text": [
            "Enter first number: 2.7\n",
            "Enter second number: 3.8\n"
          ]
        }
      ]
    },
    {
      "cell_type": "code",
      "source": [
        "# 8. Write a program to demonstrate the use of logical operators?\n",
        "\n",
        " # Logical Operators Demo\n",
        "\n",
        "# Input from user\n",
        "age = int(input(\"Enter your age: \"))\n",
        "has_ticket = input(\"Do you have a ticket? (yes/no): \").strip().lower()\n",
        "is_vip = input(\"Are you a VIP? (yes/no): \").strip().lower()\n",
        "\n",
        "# Using logical AND\n",
        "if age >= 18 and has_ticket == \"yes\":\n",
        "    print(\"You are allowed to enter the event.\")\n",
        "else:\n",
        "    print(\"Access denied: You must be at least 18 and have a ticket.\")\n",
        "\n",
        "# Using logical OR\n",
        "if has_ticket == \"yes\" or is_vip == \"yes\":\n",
        "    print(\"You are eligible for a free drink.\")\n",
        "else:\n",
        "    print(\"No free drink for you.\")\n",
        "\n",
        "# Using logical NOT\n",
        "if not age < 18:\n",
        "    print(\"You are an adult.\")\n",
        "else:\n",
        "    print(\"You are a minor.\")\n"
      ],
      "metadata": {
        "colab": {
          "base_uri": "https://localhost:8080/"
        },
        "id": "JpT_Bqb2140Q",
        "outputId": "90cdabe2-7c2b-41c7-d9b1-bf6587e5f5c0"
      },
      "execution_count": 2,
      "outputs": [
        {
          "output_type": "stream",
          "name": "stdout",
          "text": [
            "Enter your age: 27\n",
            "Do you have a ticket? (yes/no): yes\n",
            "Are you a VIP? (yes/no): no\n",
            "You are allowed to enter the event.\n",
            "You are eligible for a free drink.\n",
            "You are an adult.\n"
          ]
        }
      ]
    },
    {
      "cell_type": "code",
      "source": [
        "# 9. Write a Python program to convert user input from string to integer,float and boolean types.\n",
        "\n",
        "user_input = input(\"Enter a value: \")\n",
        "\n",
        "# Convert to integer\n",
        "try:\n",
        "    int_value = int(user_input)\n",
        "    print(f\"Integer value: {int_value}\")\n",
        "except ValueError:\n",
        "    print(\"Cannot convert to integer.\")\n",
        "\n",
        "# Convert to float\n",
        "try:\n",
        "    float_value = float(user_input)\n",
        "    print(f\"Float value: {float_value}\")\n",
        "except ValueError:\n",
        "    print(\"Cannot convert to float.\")\n",
        "\n",
        "# Convert to boolean\n",
        "# Common rule: 'true', 'yes', '1' → True; 'false', 'no', '0' → False\n",
        "def str_to_bool(s):\n",
        "    return s.strip().lower() in ['true', 'yes', '1']\n",
        "\n",
        "bool_value = str_to_bool(user_input)\n",
        "print(f\"Boolean value: {bool_value}\")\n"
      ],
      "metadata": {
        "colab": {
          "base_uri": "https://localhost:8080/"
        },
        "id": "p5nGn6tV3QsN",
        "outputId": "9a7e98c3-fc5f-46a9-97db-37c22cfff3a1"
      },
      "execution_count": 4,
      "outputs": [
        {
          "output_type": "stream",
          "name": "stdout",
          "text": [
            "Enter a value: 27\n",
            "Integer value: 27\n",
            "Float value: 27.0\n",
            "Boolean value: False\n"
          ]
        }
      ]
    },
    {
      "cell_type": "code",
      "source": [
        "# 10. Write a code to demonstrate type casting with list elements.\n",
        "\n",
        "str_list = ['10', '20.5', 'True', 'False', 'abc', '0']\n",
        "\n",
        "print(\"Original list (all strings):\", str_list)\n",
        "\n",
        "# Convert to integers\n",
        "int_list = []\n",
        "for item in str_list:\n",
        "    try:\n",
        "        int_list.append(int(float(item)))  # Convert to float first to handle '20.5'\n",
        "    except ValueError:\n",
        "        int_list.append(None)  # Use None for items that can't be converted\n",
        "print(\"Converted to integers (invalid as None):\", int_list)\n",
        "\n",
        "# Convert to floats\n",
        "float_list = []\n",
        "for item in str_list:\n",
        "    try:\n",
        "        float_list.append(float(item))\n",
        "    except ValueError:\n",
        "        float_list.append(None)\n",
        "print(\"Converted to floats (invalid as None):\", float_list)\n",
        "\n",
        "# Convert to booleans\n",
        "def str_to_bool(s):\n",
        "    return s.strip().lower() in ['true', 'yes', '1']\n",
        "\n",
        "bool_list = [str_to_bool(item) for item in str_list]\n",
        "print(\"Converted to booleans:\", bool_list)\n"
      ],
      "metadata": {
        "colab": {
          "base_uri": "https://localhost:8080/"
        },
        "id": "uGsuQmJ39ubB",
        "outputId": "7fbda43d-e424-498d-f7a9-4f3f82403188"
      },
      "execution_count": 11,
      "outputs": [
        {
          "output_type": "stream",
          "name": "stdout",
          "text": [
            "Original list (all strings): ['10', '20.5', 'True', 'False', 'abc', '0']\n",
            "Converted to integers (invalid as None): [10, 20, None, None, None, 0]\n",
            "Converted to floats (invalid as None): [10.0, 20.5, None, None, None, 0.0]\n",
            "Converted to booleans: [False, False, True, False, False, False]\n"
          ]
        }
      ]
    },
    {
      "cell_type": "code",
      "source": [
        "# 11. Write a program that checks if a number is positive,negetive,or zero.\n",
        "\n",
        "number = float(input(\"Enter a number: \"))\n",
        "\n",
        "if number > 0:\n",
        "    print(\"The number is positive.\")\n",
        "elif number < 0:\n",
        "    print(\"The number is negative.\")\n",
        "else:\n",
        "    print(\"The number is zero.\")\n"
      ],
      "metadata": {
        "colab": {
          "base_uri": "https://localhost:8080/"
        },
        "id": "BsU3QAOCwl6r",
        "outputId": "811d8d18-0ffc-45b8-a66b-2188db063094"
      },
      "execution_count": 12,
      "outputs": [
        {
          "output_type": "stream",
          "name": "stdout",
          "text": [
            "Enter a number: 5.5\n",
            "The number is positive.\n"
          ]
        }
      ]
    },
    {
      "cell_type": "code",
      "source": [
        "# 12. Write a loop to print numbers from 1 to 10.\n",
        "\n",
        "i = 1\n",
        "while i <= 10:\n",
        "    print(i)\n",
        "    i += 1\n"
      ],
      "metadata": {
        "colab": {
          "base_uri": "https://localhost:8080/"
        },
        "id": "z4kuC9ytwiNP",
        "outputId": "643d04f3-2d1e-429d-d9fc-711d6e877841"
      },
      "execution_count": 13,
      "outputs": [
        {
          "output_type": "stream",
          "name": "stdout",
          "text": [
            "1\n",
            "2\n",
            "3\n",
            "4\n",
            "5\n",
            "6\n",
            "7\n",
            "8\n",
            "9\n",
            "10\n"
          ]
        }
      ]
    },
    {
      "cell_type": "code",
      "source": [
        "# 13. Write a Python program to find the sum of all even numbers between 1 and 50.\n",
        "\n",
        "even_sum = sum(range(2, 51, 2))\n",
        "print(\"Sum of even numbers from 1 to 50 is:\", even_sum)\n"
      ],
      "metadata": {
        "colab": {
          "base_uri": "https://localhost:8080/"
        },
        "id": "xSEBx1Hc_6sE",
        "outputId": "3624b415-07b7-44fe-9638-6b94ec710d3e"
      },
      "execution_count": 14,
      "outputs": [
        {
          "output_type": "stream",
          "name": "stdout",
          "text": [
            "Sum of even numbers from 1 to 50 is: 650\n"
          ]
        }
      ]
    },
    {
      "cell_type": "code",
      "source": [
        "# 14. Write a program to reverse a string a while loop.\n",
        "\n",
        "text = input(\"Enter a string: \")\n",
        "\n",
        "reversed_text = \"\"\n",
        "index = len(text) - 1\n",
        "\n",
        "while index >= 0:\n",
        "    reversed_text += text[index]\n",
        "    index -= 1\n",
        "\n",
        "print(\"Reversed string:\", reversed_text)\n"
      ],
      "metadata": {
        "colab": {
          "base_uri": "https://localhost:8080/"
        },
        "id": "nwiFHaO5AtZJ",
        "outputId": "fa0956ed-d409-42fc-9186-346a000fc9d8"
      },
      "execution_count": 15,
      "outputs": [
        {
          "output_type": "stream",
          "name": "stdout",
          "text": [
            "Enter a string: jishan\n",
            "Reversed string: nahsij\n"
          ]
        }
      ]
    },
    {
      "cell_type": "code",
      "source": [
        "# 15. Write a Python program to calculate the factorial of a number provided by the user using a while loop.\n",
        "\n",
        "num = int(input(\"Enter a non-negative integer: \"))\n",
        "\n",
        "if num < 0:\n",
        "    print(\"Factorial is not defined for negative numbers.\")\n",
        "else:\n",
        "    factorial = 1\n",
        "    i = 1\n",
        "\n",
        "    while i <= num:\n",
        "        factorial *= i\n",
        "        i += 1\n",
        "\n",
        "    print(f\"Factorial of {num} is: {factorial}\")\n"
      ],
      "metadata": {
        "colab": {
          "base_uri": "https://localhost:8080/"
        },
        "id": "_oMxa-2WByJo",
        "outputId": "1a226bf3-6d89-457a-a311-0ca71d32e435"
      },
      "execution_count": 16,
      "outputs": [
        {
          "output_type": "stream",
          "name": "stdout",
          "text": [
            "Enter a non-negative integer: 6\n",
            "Factorial of 6 is: 720\n"
          ]
        }
      ]
    },
    {
      "cell_type": "code",
      "source": [],
      "metadata": {
        "id": "vvxrfJCXCqHa"
      },
      "execution_count": null,
      "outputs": []
    }
  ]
}